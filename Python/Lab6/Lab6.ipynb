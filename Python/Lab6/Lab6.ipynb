{
 "cells": [
  {
   "cell_type": "code",
   "execution_count": 13,
   "metadata": {},
   "outputs": [],
   "source": [
    "import numpy as np\n",
    "import matplotlib.pyplot as plt\n",
    "import pandas as pd\n",
    "from sklearn.metrics import r2_score\n",
    "from scipy.optimize import curve_fit\n",
    "from uncertainties import ufloat"
   ]
  },
  {
   "cell_type": "code",
   "execution_count": 14,
   "metadata": {},
   "outputs": [],
   "source": [
    "### Plotting raw data only for copper, axis = 0 ###\n",
    "rawdata = pd.read_csv(\"C:\\\\Users\\\\chril\\\\Documents\\\\Python Scripts\\\\Fluid\\\\ENGR120-Lab-Report-6\\\\Python\\\\Lab6\\\\Copper\\\\copper_fl_u.csv\", delimiter=\",\", header=None)\n",
    "rawdata = rawdata[rawdata.iloc[:,2] == 0]\n",
    "rawdata.iloc[:,0] = rawdata.iloc[:,0].replace(\"2024-11-12_\",\"\", regex=True)\n",
    "rawdata.iloc[:,0] = pd.to_datetime(rawdata.iloc[:,0], format=\"%H:%M:%S.%f\")\n",
    "\n",
    "plt.plot(rawdata.iloc[:,0], rawdata.iloc[:,3], '.', label=\"Raw data\")\n",
    "plt.xlabel(\"Time\")\n",
    "plt.ylabel(\"Acceleration\")\n",
    "plt.savefig(\"C:\\\\Users\\\\chril\\\\Documents\\\\Python Scripts\\\\Fluid\\\\ENGR120-Lab-Report-6\\\\Python\\\\Lab6\\\\Plots\\\\rawdataCUa0.png\")\n",
    "plt.close()"
   ]
  },
  {
   "cell_type": "code",
   "execution_count": 15,
   "metadata": {},
   "outputs": [],
   "source": [
    "def fitfunc(x, a, b):\n",
    "    return a*x + b"
   ]
  },
  {
   "cell_type": "code",
   "execution_count": 92,
   "metadata": {},
   "outputs": [],
   "source": [
    "def R2Score(Material):\n",
    "    FullData = pd.DataFrame()\n",
    "    filename = \"C:\\\\Users\\\\chril\\\\Documents\\\\Python Scripts\\\\Fluid\\\\ENGR120-Lab-Report-6\\\\Python\\\\Lab6\\\\\" + Material.capitalize() + \"\\\\\" + Material + \"_fl_\"\n",
    "    Df = pd.DataFrame()\n",
    "    for i in [\"02\", \"03\", \"04\", \"06\", \"u\"]:\n",
    "        Data = pd.read_csv(filename + i + \".csv\", delimiter = \",\", header = None)\n",
    "        Df[Material + i + \"_time\"] = Data[0] #Names the columns\n",
    "        Df[Material + i + \"_axis\"] = Data[2]\n",
    "        Df[Material + i + \"_acceleration\"] =Data[3]\n",
    "    Df = Df.dropna() #Makes sure they have run for equal amount of time\n",
    "\n",
    "    results = pd.DataFrame()\n",
    "    for axis in range(3): #Calculates the R2 score for each axis\n",
    "        AvgAcc, stdAcc, FlowRate = [], [], []\n",
    "        AxisDf = Df[Df[Material + \"02_axis\"]  == axis] #New temporary dataframe for each axis\n",
    "\n",
    "        for i in [\"02\", \"03\", \"04\", \"06\"]: #Calculates the average acceleration for each flowrate\n",
    "            AvgAcc.append(AxisDf[Material + i + \"_acceleration\"].mean()) \n",
    "            stdAcc.append(AxisDf[Material + i + \"_acceleration\"].std()/np.sqrt(len(AxisDf[Material + i + \"_acceleration\"])))\n",
    "            FlowRate.append(int(i))\n",
    "\n",
    "        par, cov = curve_fit(fitfunc, FlowRate, AvgAcc, sigma = stdAcc, absolute_sigma=True) #Fits the data to a linear function\n",
    "\n",
    "        unkownAcc = AxisDf[Material + \"u_acceleration\"].mean() #Calculates the unknown flowrate\n",
    "        \n",
    "        dict = {\n",
    "            \"Material\": [Material], \n",
    "            \"Axis\": [axis],  \n",
    "            \"R2_score\": [r2_score(AvgAcc, fitfunc(np.asarray(FlowRate), *par))], \n",
    "            \"Unknown flowrate\": [(unkownAcc - par[1])/par[0] ],\n",
    "            \"Flowrate errror\": [np.sqrt((1/par[0])**2* (np.std(AxisDf[Material + \"u_acceleration\"])/len(AxisDf[Material + \"u_acceleration\"]))**2\n",
    "                                        + (1/par[0])**2*cov[1,1] \n",
    "                                        + ((unkownAcc - par[1])/(par[0]**2))**2*cov[0,0])],\n",
    "            } #Creates a dictionary with the results\n",
    "        results = pd.DataFrame(dict) #Creates a dataframe with the results\n",
    "        #write to csv\n",
    "        results.to_csv(\"C:\\\\Users\\\\chril\\\\Documents\\\\Python Scripts\\\\Fluid\\\\ENGR120-Lab-Report-6\\\\Python\\\\Lab6\\\\Results\\\\\" + Material + str(axis)+ \"_R2_score.csv\", header = True)\n",
    "        \n",
    "        if axis == 0: #Plots the data for all materials, only for axis = 0\n",
    "            a = ufloat(par[0], np.sqrt(cov[0,0])) #Calculates the parameters and uncertainties\n",
    "            b = ufloat(par[1], np.sqrt(cov[1,1]))\n",
    "            fig = plt.figure()\n",
    "            plt.errorbar(FlowRate, AvgAcc, yerr = stdAcc, fmt = \"o\", label = \"Data\")\n",
    "            plt.plot(\n",
    "                FlowRate, \n",
    "                fitfunc(np.asarray(FlowRate), *par), \n",
    "                label = f\"Fit, $A = {a:L}, B = {b:L}$\"\n",
    "                )\n",
    "            plt.xlabel(\"Flowrate\")\n",
    "            plt.ylabel(\"Acceleration\")\n",
    "            plt.legend()\n",
    "            plt.savefig(\"C:\\\\Users\\\\chril\\\\Documents\\\\Python Scripts\\\\Fluid\\\\ENGR120-Lab-Report-6\\\\Python\\\\Lab6\\\\Plots\\\\\" + Material + \"_axis\" + str(axis) + \".png\", bbox_inches='tight')\n",
    "            plt.close(fig)\n"
   ]
  },
  {
   "cell_type": "code",
   "execution_count": 93,
   "metadata": {},
   "outputs": [],
   "source": [
    "for mat in [\"copper\", \"galvanized\", \"pvc\"]:\n",
    "    R2Score(mat)\n",
    "# plt.close()"
   ]
  },
  {
   "cell_type": "code",
   "execution_count": 94,
   "metadata": {},
   "outputs": [
    {
     "name": "stdout",
     "output_type": "stream",
     "text": [
      "\\begin{tabular}{lrrl}\n",
      "\\toprule\n",
      "\\textbf{Material} & \\textbf{Axis} & \\textbf{$R^2$ score} & \\textbf{Unknown flowrate $[m^3 / hr]$} \\\\\n",
      "\\midrule\n",
      "copper & 0 & 0.73 & $5.3 \\pm 3.3$ \\\\\n",
      "copper & 1 & 0.38 & $6.0 \\pm 1.8$ \\\\\n",
      "copper & 2 & 0.50 & $0 \\pm 8$ \\\\\n",
      "galvanized & 0 & 0.64 & $4.3 \\pm 2.9$ \\\\\n",
      "galvanized & 1 & 0.27 & $3 \\pm 4$ \\\\\n",
      "galvanized & 2 & 0.39 & $10 \\pm 9$ \\\\\n",
      "pvc & 0 & 0.90 & $6.2 \\pm 1.0$ \\\\\n",
      "pvc & 1 & 0.07 & $-7 \\pm 11$ \\\\\n",
      "pvc & 2 & -0.37 & $1 \\pm 5$ \\\\\n",
      "\\bottomrule\n",
      "\\end{tabular}\n",
      "\n"
     ]
    }
   ],
   "source": [
    "Fulldata = pd.DataFrame()\n",
    "for mat in [\"copper\", \"galvanized\", \"pvc\"]:\n",
    "    for axis in range(3):\n",
    "        data = pd.read_csv(\"C:\\\\Users\\\\chril\\\\Documents\\\\Python Scripts\\\\Fluid\\\\ENGR120-Lab-Report-6\\\\Python\\\\Lab6\\\\Results\\\\\" + mat + str(axis) + \"_R2_score.csv\", delimiter = \",\", header = 0)\n",
    "        data[\"Unknown flowrate\"] = \"${:L}$\".format(ufloat(data[\"Unknown flowrate\"].values[0], data[\"Flowrate errror\"].values[0]))\n",
    "        #Add data to FullData\n",
    "        Fulldata = pd.concat([Fulldata, data], ignore_index = True)\n",
    "        # print(data[\"Material\"].values[0], \n",
    "        #       round(data[\"Axis\"].values[0], 2), \n",
    "        #       round(data[\"R2_score\"].values[0], 2), \n",
    "                # \"${:L}$\".format(ufloat(data[\"Unknown flowrate\"].values[0], data[\"Flowrate errror\"].values[0])).replace(\" \", \"\")\n",
    "        # )\n",
    "# columnnames = [\"Material\", \"Axis\", \"$R^2 score$\", \"Unknown flowrate\"]\n",
    "# columnnames = [\"\\textbf{\" + i + \"}\" for i in columnnames]\n",
    "# print(columnnames)\n",
    "Fulldata.rename(columns = {\"Material\": \"\\\\textbf{Material}\", \"Axis\": \"\\\\textbf{Axis}\", \"R2_score\": \"\\\\textbf{$R^2$ score}\", \"Unknown flowrate\": \"\\\\textbf{Unknown flowrate $[m^3 / hr]$}\"}, inplace = True)\n",
    "LatexTable = Fulldata.drop(columns = [\"Unnamed: 0\", \"Flowrate errror\"]).to_latex(index = False, float_format=\"%.2f\")\n",
    "#Savve asd as .tex\n",
    "with open(\"C:\\\\Users\\\\chril\\\\Documents\\\\Python Scripts\\\\Fluid\\\\ENGR120-Lab-Report-6\\\\Python\\\\Lab6\\\\Results\\\\R2_score.tex\", \"w\") as text_file:\n",
    "    text_file.write(LatexTable)\n",
    "print(LatexTable)"
   ]
  },
  {
   "cell_type": "code",
   "execution_count": null,
   "metadata": {},
   "outputs": [
    {
     "name": "stderr",
     "output_type": "stream",
     "text": [
      "[NbConvertApp] Converting notebook Lab6.ipynb to markdown\n",
      "[NbConvertApp] Writing 4972 bytes to C:\\Users\\chril\\Documents\\Python Scripts\\Fluid\\ENGR120-Lab-Report-6\\Lab6.md\n"
     ]
    }
   ],
   "source": [
    "#Converts the notebook to a markdown\n",
    "!jupyter nbconvert --to markdown --output-dir=\"C:/Users/chril/Documents/Python Scripts/Fluid/ENGR120-Lab-Report-6\" Lab6.ipynb\n"
   ]
  }
 ],
 "metadata": {
  "kernelspec": {
   "display_name": "Python 3",
   "language": "python",
   "name": "python3"
  },
  "language_info": {
   "codemirror_mode": {
    "name": "ipython",
    "version": 3
   },
   "file_extension": ".py",
   "mimetype": "text/x-python",
   "name": "python",
   "nbconvert_exporter": "python",
   "pygments_lexer": "ipython3",
   "version": "3.11.1"
  }
 },
 "nbformat": 4,
 "nbformat_minor": 2
}
